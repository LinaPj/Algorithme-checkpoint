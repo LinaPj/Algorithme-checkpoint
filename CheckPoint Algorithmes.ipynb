{
 "cells": [
  {
   "cell_type": "markdown",
   "id": "104a1fbc",
   "metadata": {},
   "source": [
    "# 1 Write a Python program for binary search.\n",
    "#Test Data :\n",
    "#binary_search([1,2,3,5,8], 6) -> False\n",
    "#binary_search([1,2,3,5,8], 5) -> True\n",
    "\n"
   ]
  },
  {
   "cell_type": "code",
   "execution_count": null,
   "id": "0fd8a58a",
   "metadata": {},
   "outputs": [],
   "source": [
    "def dicho(element,liste):\n",
    "    a=0\n",
    "    b=len(liste)-1\n",
    "    while a<b:\n",
    "        n=(a+b)//2\n",
    "        if liste[n]<element:\n",
    "            b=n+1\n",
    "        \n",
    "        elif liste[n]>element:\n",
    "            b=n-1\n",
    "            \n",
    "        else:\n",
    "            return a\n",
    "            \n",
    "    return False\n",
    "    \n",
    "print(dicho(3 ,[1,2,3,4,5,7,8,9,10,11,12,13]))\n",
    "        "
   ]
  },
  {
   "cell_type": "code",
   "execution_count": 4,
   "id": "544035f5",
   "metadata": {},
   "outputs": [
    {
     "data": {
      "text/plain": [
       "'k is found'"
      ]
     },
     "execution_count": 4,
     "metadata": {},
     "output_type": "execute_result"
    }
   ],
   "source": [
    "#correction \n",
    "\n",
    "\n",
    "def binary_search(A, l, h, k):\n",
    "    if h >= l:\n",
    "        mid = (l + (h - l)//2) \n",
    "        if A[mid] == k:\n",
    "            return 'k is found'\n",
    "        elif A[mid] > k:\n",
    "            return binary_search(A, l, mid-1, k)\n",
    "        else:\n",
    "            return binary_search(A, mid+1, h, k)\n",
    "    else:\n",
    "        return 'k is not found' #sinon return mid\n",
    "\n",
    "A=[1, 2, 7, 12, 28, 31, 40, 41, 42, 46, 59]\n",
    "k=46;l=0; h=len(A)-1;\n",
    "binary_search(A, l, h, k)\n",
    "\n"
   ]
  },
  {
   "cell_type": "markdown",
   "id": "48aada49",
   "metadata": {},
   "source": [
    "# 2. Write a Python program to calculate the value of 'a' to the power 'b'.\n",
    "\n",
    "#Test Data : \n",
    "#(power(3,4) -> 81"
   ]
  },
  {
   "cell_type": "code",
   "execution_count": 1,
   "id": "c52f94f4",
   "metadata": {},
   "outputs": [
    {
     "data": {
      "text/plain": [
       "81"
      ]
     },
     "execution_count": 1,
     "metadata": {},
     "output_type": "execute_result"
    }
   ],
   "source": [
    "def power(a,b):\n",
    "    return a**b\n",
    "\n",
    "power(3,4)"
   ]
  },
  {
   "cell_type": "code",
   "execution_count": null,
   "id": "fe056d61",
   "metadata": {},
   "outputs": [],
   "source": []
  },
  {
   "cell_type": "markdown",
   "id": "31719315",
   "metadata": {},
   "source": [
    "# 3. Write a Python program to sort a list of elements using the bubble sort algorithm.\n",
    "\n",
    "#Sample Data: [29,13,22,37,52,49,46,71,56]\n",
    "#Expected Result: [13, 22, 29, 37, 42, 46, 49, 56, 71]"
   ]
  },
  {
   "cell_type": "code",
   "execution_count": 8,
   "id": "ebc5c901",
   "metadata": {},
   "outputs": [
    {
     "data": {
      "text/plain": [
       "[14, 21, 27, 41, 43, 45, 46, 57, 70]"
      ]
     },
     "execution_count": 8,
     "metadata": {},
     "output_type": "execute_result"
    }
   ],
   "source": [
    "def bubbleSort(nlist):\n",
    "    for passnum in range(len(nlist)-1,0,-1): #3 eme parametre = le pas avance de -1 avance jusqu'a 0\n",
    "        for i in range(passnum):\n",
    "            if nlist[i]>nlist[i+1]: #i +1 - la case suivante\n",
    "                temp = nlist[i]\n",
    "                nlist[i] = nlist[i+1]\n",
    "                nlist[i+1] = temp\n",
    "    return nlist\n",
    "\n",
    "nlist = [14,46,43,27,57,41,45,21,70]\n",
    "bubbleSort(nlist)"
   ]
  },
  {
   "cell_type": "markdown",
   "id": "951059f2",
   "metadata": {},
   "source": [
    "# #4. Write a Python program to sort a list of elements using the merge sort algorithm.\n",
    "\n",
    "#Sample Data: [29,13,22,37,52,49,46,71,56]\n",
    "#Expected Result: [13, 22, 29, 37, 42, 46, 49, 56, 71]"
   ]
  },
  {
   "cell_type": "code",
   "execution_count": null,
   "id": "f1ad315e",
   "metadata": {},
   "outputs": [],
   "source": [
    "def mergeSort(myList):\n",
    "    if len(myList) > 1:\n",
    "        mid = len(myList) // 2\n",
    "        left = myList[:mid]\n",
    "        right = myList[mid:]\n",
    "\n",
    "        \n",
    "        mergeSort(left)\n",
    "        mergeSort(right)\n",
    "\n",
    "        \n",
    "        i = 0\n",
    "        j = 0\n",
    "        \n",
    "        \n",
    "        k = 0\n",
    "        \n",
    "        while i < len(left) and j < len(right): \n",
    "            if left[i] < right[j]:\n",
    "              \n",
    "              myList[k] = left[i]\n",
    "              \n",
    "              i += 1 \n",
    "            else:\n",
    "                myList[k] = right[j]\n",
    "                j += 1\n",
    "            \n",
    "            k += 1\n",
    "\n",
    "        \n",
    "        while i < len(left):\n",
    "            myList[k] = left[i] \n",
    "            i += 1\n",
    "            k += 1\n",
    "\n",
    "        while j < len(right):\n",
    "            myList[k]=right[j]\n",
    "            j += 1\n",
    "            k += 1\n",
    "\n",
    "myList = [54,26,93,17,77,31,44,55,20]\n",
    "mergeSort(myList)\n",
    "print(myList)"
   ]
  },
  {
   "cell_type": "markdown",
   "id": "f145c201",
   "metadata": {},
   "source": [
    "#    #5. Write a Python program to sort a list of elements using the quick sort algorithm.\n",
    "\n",
    "#Sample Data: [29,13,22,37,52,49,46,71,56]\n",
    "#Expected Result: [13, 22, 29, 37, 42, 46, 49, 56, 71]\n",
    "\n",
    " "
   ]
  },
  {
   "cell_type": "code",
   "execution_count": null,
   "id": "41296499",
   "metadata": {},
   "outputs": [],
   "source": [
    "def partition(array, start, end): #ARRAY=NOM DE LA LISTE\n",
    "    pivot = array[start]\n",
    "    low = start + 1\n",
    "    high = end\n",
    "    while True:\n",
    "        \n",
    "        \n",
    "        \n",
    "        \n",
    "        \n",
    "        while low <= high and array[high] >= pivot:\n",
    "            high = high - 1\n",
    "\n",
    "        \n",
    "        while low <= high and array[low] <= pivot:\n",
    "            low = low + 1\n",
    "\n",
    "        \n",
    "    \n",
    "        if low <= high:\n",
    "            array[low], array[high] = array[high], array[low]  \n",
    "\n",
    "            \n",
    "        else:\n",
    "            \n",
    "            break \n",
    "\n",
    "    array[start], array[high] = array[high], array[start] \n",
    "\n",
    "    return high\n",
    "\n",
    "\n",
    "\n",
    "def quick_sort(array, start, end):\n",
    "    if start >= end:\n",
    "        return\n",
    "\n",
    "    p = partition(array, start, end) \n",
    "    quick_sort(array, start, p-1)\n",
    "    quick_sort(array, p+1, end)\n",
    "\n",
    "\n",
    "array = [29,99,27,41,66,28,44,78,87,19,31,76,58,88,83,97,12,21,44]\n",
    "quick_sort(array, 0, len(array) - 1)\n",
    "print(array)"
   ]
  }
 ],
 "metadata": {
  "kernelspec": {
   "display_name": "Python 3 (ipykernel)",
   "language": "python",
   "name": "python3"
  },
  "language_info": {
   "codemirror_mode": {
    "name": "ipython",
    "version": 3
   },
   "file_extension": ".py",
   "mimetype": "text/x-python",
   "name": "python",
   "nbconvert_exporter": "python",
   "pygments_lexer": "ipython3",
   "version": "3.9.7"
  }
 },
 "nbformat": 4,
 "nbformat_minor": 5
}
